{
 "cells": [
  {
   "cell_type": "markdown",
   "id": "7941c029",
   "metadata": {},
   "source": [
    "## N-BaIoT Botnet Detection with LightGBM (Final Version)\n",
    "\n",
    "This notebook trains a high-performance LightGBM model for botnet detection on the N-BaIoT dataset. \n",
    "\n",
    "### Workflow:\n",
    "1.  **Data Loading**: Loads randomized samples from the pre-split `train` and `validation` directories on S3.\n",
    "2.  **Preprocessing**: Uses `RobustScaler` to handle outliers and prepares the data for training.\n",
    "3.  **Training**: Trains a `LightGBM` classifier with built-in class imbalance handling and early stopping.\n",
    "4.  **Evaluation**: Assesses the model's performance on the validation set.\n",
    "5.  **Saving**: Saves the final trained model and scaler for deployment."
   ]
  },
  {
   "cell_type": "code",
   "execution_count": 1,
   "id": "361a972b",
   "metadata": {},
   "outputs": [
    {
     "name": "stdout",
     "output_type": "stream",
     "text": [
      "Requirement already satisfied: lightgbm in /opt/conda/lib/python3.11/site-packages (4.6.0)\n",
      "Requirement already satisfied: scikit-learn in /opt/conda/lib/python3.11/site-packages (1.3.1)\n",
      "Requirement already satisfied: pandas in /opt/conda/lib/python3.11/site-packages (2.0.3)\n",
      "Requirement already satisfied: numpy in /opt/conda/lib/python3.11/site-packages (1.24.4)\n",
      "Requirement already satisfied: s3fs in /opt/conda/lib/python3.11/site-packages (2025.7.0)\n",
      "Requirement already satisfied: joblib in /opt/conda/lib/python3.11/site-packages (1.3.2)\n",
      "Requirement already satisfied: seaborn in /opt/conda/lib/python3.11/site-packages (0.13.0)\n",
      "Requirement already satisfied: matplotlib in /opt/conda/lib/python3.11/site-packages (3.8.0)\n",
      "Requirement already satisfied: pyarrow in /opt/conda/lib/python3.11/site-packages (10.0.1)\n",
      "Requirement already satisfied: scipy in /opt/conda/lib/python3.11/site-packages (from lightgbm) (1.11.3)\n",
      "Requirement already satisfied: threadpoolctl>=2.0.0 in /opt/conda/lib/python3.11/site-packages (from scikit-learn) (3.2.0)\n",
      "Requirement already satisfied: python-dateutil>=2.8.2 in /opt/conda/lib/python3.11/site-packages (from pandas) (2.9.0.post0)\n",
      "Requirement already satisfied: pytz>=2020.1 in /opt/conda/lib/python3.11/site-packages (from pandas) (2023.3.post1)\n",
      "Requirement already satisfied: tzdata>=2022.1 in /opt/conda/lib/python3.11/site-packages (from pandas) (2023.3)\n",
      "Requirement already satisfied: aiobotocore<3.0.0,>=2.5.4 in /opt/conda/lib/python3.11/site-packages (from s3fs) (2.23.0)\n",
      "Requirement already satisfied: fsspec==2025.7.0 in /opt/conda/lib/python3.11/site-packages (from s3fs) (2025.7.0)\n",
      "Requirement already satisfied: aiohttp!=4.0.0a0,!=4.0.0a1 in /opt/conda/lib/python3.11/site-packages (from s3fs) (3.12.14)\n",
      "Requirement already satisfied: contourpy>=1.0.1 in /opt/conda/lib/python3.11/site-packages (from matplotlib) (1.1.1)\n",
      "Requirement already satisfied: cycler>=0.10 in /opt/conda/lib/python3.11/site-packages (from matplotlib) (0.12.1)\n",
      "Requirement already satisfied: fonttools>=4.22.0 in /opt/conda/lib/python3.11/site-packages (from matplotlib) (4.43.1)\n",
      "Requirement already satisfied: kiwisolver>=1.0.1 in /opt/conda/lib/python3.11/site-packages (from matplotlib) (1.4.5)\n",
      "Requirement already satisfied: packaging>=20.0 in /opt/conda/lib/python3.11/site-packages (from matplotlib) (23.2)\n",
      "Requirement already satisfied: pillow>=6.2.0 in /opt/conda/lib/python3.11/site-packages (from matplotlib) (10.1.0)\n",
      "Requirement already satisfied: pyparsing>=2.3.1 in /opt/conda/lib/python3.11/site-packages (from matplotlib) (3.1.1)\n",
      "Requirement already satisfied: aioitertools<1.0.0,>=0.5.1 in /opt/conda/lib/python3.11/site-packages (from aiobotocore<3.0.0,>=2.5.4->s3fs) (0.12.0)\n",
      "Requirement already satisfied: botocore<1.38.28,>=1.38.23 in /opt/conda/lib/python3.11/site-packages (from aiobotocore<3.0.0,>=2.5.4->s3fs) (1.38.27)\n",
      "Requirement already satisfied: jmespath<2.0.0,>=0.7.1 in /opt/conda/lib/python3.11/site-packages (from aiobotocore<3.0.0,>=2.5.4->s3fs) (1.0.1)\n",
      "Requirement already satisfied: multidict<7.0.0,>=6.0.0 in /opt/conda/lib/python3.11/site-packages (from aiobotocore<3.0.0,>=2.5.4->s3fs) (6.6.3)\n",
      "Requirement already satisfied: wrapt<2.0.0,>=1.10.10 in /opt/conda/lib/python3.11/site-packages (from aiobotocore<3.0.0,>=2.5.4->s3fs) (1.17.2)\n",
      "Requirement already satisfied: aiohappyeyeballs>=2.5.0 in /opt/conda/lib/python3.11/site-packages (from aiohttp!=4.0.0a0,!=4.0.0a1->s3fs) (2.6.1)\n",
      "Requirement already satisfied: aiosignal>=1.4.0 in /opt/conda/lib/python3.11/site-packages (from aiohttp!=4.0.0a0,!=4.0.0a1->s3fs) (1.4.0)\n",
      "Requirement already satisfied: attrs>=17.3.0 in /opt/conda/lib/python3.11/site-packages (from aiohttp!=4.0.0a0,!=4.0.0a1->s3fs) (25.3.0)\n",
      "Requirement already satisfied: frozenlist>=1.1.1 in /opt/conda/lib/python3.11/site-packages (from aiohttp!=4.0.0a0,!=4.0.0a1->s3fs) (1.7.0)\n",
      "Requirement already satisfied: propcache>=0.2.0 in /opt/conda/lib/python3.11/site-packages (from aiohttp!=4.0.0a0,!=4.0.0a1->s3fs) (0.3.2)\n",
      "Requirement already satisfied: yarl<2.0,>=1.17.0 in /opt/conda/lib/python3.11/site-packages (from aiohttp!=4.0.0a0,!=4.0.0a1->s3fs) (1.20.1)\n",
      "Requirement already satisfied: six>=1.5 in /opt/conda/lib/python3.11/site-packages (from python-dateutil>=2.8.2->pandas) (1.17.0)\n",
      "Requirement already satisfied: typing-extensions>=4.2 in /opt/conda/lib/python3.11/site-packages (from aiosignal>=1.4.0->aiohttp!=4.0.0a0,!=4.0.0a1->s3fs) (4.14.1)\n",
      "Requirement already satisfied: urllib3!=2.2.0,<3,>=1.25.4 in /opt/conda/lib/python3.11/site-packages (from botocore<1.38.28,>=1.38.23->aiobotocore<3.0.0,>=2.5.4->s3fs) (2.5.0)\n",
      "Requirement already satisfied: idna>=2.0 in /opt/conda/lib/python3.11/site-packages (from yarl<2.0,>=1.17.0->aiohttp!=4.0.0a0,!=4.0.0a1->s3fs) (3.10)\n"
     ]
    }
   ],
   "source": [
    "!pip install lightgbm scikit-learn pandas numpy s3fs joblib seaborn matplotlib pyarrow"
   ]
  },
  {
   "cell_type": "markdown",
   "id": "372c214d",
   "metadata": {},
   "source": [
    "### 1. Configuration and Imports"
   ]
  },
  {
   "cell_type": "code",
   "execution_count": 2,
   "id": "6dfb831a",
   "metadata": {},
   "outputs": [],
   "source": [
    "import os\n",
    "import joblib\n",
    "import json\n",
    "import numpy as np\n",
    "import pandas as pd\n",
    "import s3fs\n",
    "import pyarrow.dataset as ds\n",
    "import lightgbm as lgb\n",
    "from sklearn.preprocessing import RobustScaler\n",
    "from sklearn.metrics import classification_report, confusion_matrix\n",
    "import matplotlib.pyplot as plt\n",
    "import seaborn as sns\n",
    "\n",
    "# --- S3/MinIO Configuration ---\n",
    "S3_ENDPOINT_URL = os.environ.get(\"S3_ENDPOINT_URL\", \"http://minio:9000\")\n",
    "S3_ACCESS_KEY = os.environ.get(\"S3_ACCESS_KEY\", \"minio_access_key\")\n",
    "S3_SECRET_KEY = os.environ.get(\"S3_SECRET_KEY\", \"minio_secret_key\")\n",
    "\n",
    "# --- Path Configuration ---\n",
    "SOURCE_DATA_PATH = \"processed/iot_botnet_data\"\n",
    "TRAIN_DATA_PATH = os.path.join(SOURCE_DATA_PATH, \"train\")\n",
    "VAL_DATA_PATH = os.path.join(SOURCE_DATA_PATH, \"validation\")\n",
    "\n",
    "ARTIFACTS_DIR = \"app/saved_assets\"\n",
    "os.makedirs(ARTIFACTS_DIR, exist_ok=True)\n",
    "\n",
    "SCALER_PATH = os.path.join(ARTIFACTS_DIR, \"lgbm_nbiot_scaler.gz\")\n",
    "FEATURE_LIST_PATH = os.path.join(ARTIFACTS_DIR, \"lgbm_features.json\")\n",
    "MODEL_PATH = os.path.join(ARTIFACTS_DIR, \"lgbm_nbiot_model.joblib\")\n",
    "\n",
    "# --- Data Sampling and Model Hyperparameters ---\n",
    "SAMPLE_SIZE_TRAIN = 1000000\n",
    "SAMPLE_SIZE_VAL = 200000\n",
    "\n",
    "# --- S3 Filesystem Object ---\n",
    "s3 = s3fs.S3FileSystem(\n",
    "    key=S3_ACCESS_KEY,\n",
    "    secret=S3_SECRET_KEY,\n",
    "    client_kwargs={'endpoint_url': S3_ENDPOINT_URL}\n",
    ")"
   ]
  },
  {
   "cell_type": "markdown",
   "id": "80a443ec",
   "metadata": {},
   "source": [
    "### 2. Data Loading and Preprocessing Utilities"
   ]
  },
  {
   "cell_type": "code",
   "execution_count": 3,
   "id": "1b264275",
   "metadata": {},
   "outputs": [],
   "source": [
    "import random\n",
    "import pyarrow.parquet as pq\n",
    "\n",
    "def load_random_sample(path, sample_size, s3_filesystem):\n",
    "    \"\"\"\n",
    "    Loads a random sample from a multi-file Parquet dataset in a memory-safe way.\n",
    "    \"\"\"\n",
    "    print(f\"Loading random sample of {sample_size:,} from {path}...\")\n",
    "    # Get a list of all parquet files in the directory\n",
    "    all_files = s3_filesystem.glob(f\"{path}/*.parquet\")\n",
    "    \n",
    "    # Shuffle the list of files to ensure randomness\n",
    "    random.shuffle(all_files)\n",
    "    \n",
    "    df_list = []\n",
    "    rows_loaded = 0\n",
    "    \n",
    "    # Load files one by one until we have enough rows\n",
    "    for file_path in all_files:\n",
    "        df = pq.read_table(file_path, filesystem=s3_filesystem).to_pandas()\n",
    "        df_list.append(df)\n",
    "        rows_loaded += len(df)\n",
    "        if rows_loaded >= sample_size:\n",
    "            break\n",
    "            \n",
    "    # Combine the loaded dataframes and take a final precise sample\n",
    "    full_df = pd.concat(df_list, ignore_index=True)\n",
    "    return full_df.sample(n=min(sample_size, len(full_df)), random_state=42)\n",
    "\n",
    "def get_or_create_scaler(scaler_path, s3_filesystem):\n",
    "    \"\"\"Loads a scaler or fits a new one using RobustScaler.\"\"\"\n",
    "    # This function remains largely the same, but we'll use the new loader\n",
    "    if os.path.exists(scaler_path):\n",
    "        print(f\"Loading existing scaler from {scaler_path}\")\n",
    "        scaler = joblib.load(scaler_path)\n",
    "        with open(FEATURE_LIST_PATH, 'r') as f:\n",
    "            numerical_features = json.load(f)\n",
    "        return scaler, numerical_features\n",
    "    else:\n",
    "        print(\"Scaler not found. Detecting features and fitting a new RobustScaler...\")\n",
    "        scaler = RobustScaler()\n",
    "        # Use our new random loader to get a sample for fitting the scaler\n",
    "        sample_df = load_random_sample(TRAIN_DATA_PATH, 200000, s3_filesystem)\n",
    "        try:\n",
    "            numerical_features = sample_df.select_dtypes(include=np.number).columns.tolist()\n",
    "            if 'label' in numerical_features:\n",
    "                numerical_features.remove('label')\n",
    "            \n",
    "            print(f\"Detected {len(numerical_features)} numerical features.\")\n",
    "            with open(FEATURE_LIST_PATH, 'w') as f:\n",
    "                json.dump(numerical_features, f)\n",
    "            print(f\"Feature list saved to {FEATURE_LIST_PATH}\")\n",
    "\n",
    "            X_sample = sample_df[numerical_features].values\n",
    "            scaler.fit(X_sample)\n",
    "            print(f\"Scaler fitted on {len(X_sample)} samples.\")\n",
    "            joblib.dump(scaler, scaler_path)\n",
    "            print(f\"Scaler saved to {scaler_path}\")\n",
    "            return scaler, numerical_features\n",
    "        except Exception as e:\n",
    "            print(f\"An error occurred while fitting the scaler: {e}\")\n",
    "            return None, None"
   ]
  },
  {
   "cell_type": "markdown",
   "id": "fd34ee32",
   "metadata": {},
   "source": [
    "### 3. Load Data and Prepare for Training"
   ]
  },
  {
   "cell_type": "code",
   "execution_count": 4,
   "id": "e8b4ca45",
   "metadata": {},
   "outputs": [
    {
     "name": "stdout",
     "output_type": "stream",
     "text": [
      "Scaler not found. Detecting features and fitting a new RobustScaler...\n",
      "Loading random sample of 200,000 from processed/iot_botnet_data/train...\n",
      "Detected 115 numerical features.\n",
      "Feature list saved to app/saved_assets/lgbm_features.json\n",
      "Scaler fitted on 200000 samples.\n",
      "Scaler saved to app/saved_assets/lgbm_nbiot_scaler.gz\n",
      "Loading random sample of 1,000,000 from processed/iot_botnet_data/train...\n",
      "Loading random sample of 200,000 from processed/iot_botnet_data/validation...\n",
      "\n",
      "Scaling data...\n"
     ]
    },
    {
     "name": "stderr",
     "output_type": "stream",
     "text": [
      "/opt/conda/lib/python3.11/site-packages/sklearn/base.py:458: UserWarning: X has feature names, but RobustScaler was fitted without feature names\n",
      "  warnings.warn(\n"
     ]
    },
    {
     "name": "stdout",
     "output_type": "stream",
     "text": [
      "Data preparation complete.\n"
     ]
    },
    {
     "name": "stderr",
     "output_type": "stream",
     "text": [
      "/opt/conda/lib/python3.11/site-packages/sklearn/base.py:458: UserWarning: X has feature names, but RobustScaler was fitted without feature names\n",
      "  warnings.warn(\n"
     ]
    }
   ],
   "source": [
    "# Get the scaler and the list of features to use\n",
    "scaler, feature_list = get_or_create_scaler(SCALER_PATH, s3)\n",
    "\n",
    "# Load random samples for training and validation using the new memory-safe function\n",
    "train_df = load_random_sample(TRAIN_DATA_PATH, SAMPLE_SIZE_TRAIN, s3)\n",
    "val_df = load_random_sample(VAL_DATA_PATH, SAMPLE_SIZE_VAL, s3)\n",
    "\n",
    "# Prepare labels: attack = 1, benign = 0\n",
    "y_train = (train_df['label'] == 'attack').astype(int)\n",
    "y_val = (val_df['label'] == 'attack').astype(int)\n",
    "\n",
    "# Prepare features using the consistent feature list\n",
    "X_train = train_df[feature_list]\n",
    "X_val = val_df[feature_list]\n",
    "\n",
    "print(\"\\nScaling data...\")\n",
    "X_train_scaled = scaler.transform(X_train)\n",
    "X_val_scaled = scaler.transform(X_val)\n",
    "\n",
    "print(\"Data preparation complete.\")"
   ]
  },
  {
   "cell_type": "markdown",
   "id": "0b5a2903",
   "metadata": {},
   "source": [
    "### 4. Train the LightGBM Model"
   ]
  },
  {
   "cell_type": "code",
   "execution_count": 5,
   "id": "63ed76ca",
   "metadata": {},
   "outputs": [
    {
     "name": "stdout",
     "output_type": "stream",
     "text": [
      "--- Training LightGBM Model ---\n",
      "Using scale_pos_weight for imbalance: 0.0854\n",
      "[LightGBM] [Info] Number of positive: 913281, number of negative: 86719\n",
      "[LightGBM] [Info] Auto-choosing col-wise multi-threading, the overhead of testing was 0.248834 seconds.\n",
      "You can set `force_col_wise=true` to remove the overhead.\n",
      "[LightGBM] [Info] Total Bins 29324\n",
      "[LightGBM] [Info] Number of data points in the train set: 1000000, number of used features: 115\n",
      "[LightGBM] [Info] [binary:BoostFromScore]: pavg=0.913281 -> initscore=2.354371\n",
      "[LightGBM] [Info] Start training from score 2.354371\n",
      "Training until validation scores don't improve for 10 rounds\n",
      "Early stopping, best iteration is:\n",
      "[25]\tvalid_0's auc: 1\n"
     ]
    },
    {
     "data": {
      "text/html": [
       "<style>#sk-container-id-1 {color: black;}#sk-container-id-1 pre{padding: 0;}#sk-container-id-1 div.sk-toggleable {background-color: white;}#sk-container-id-1 label.sk-toggleable__label {cursor: pointer;display: block;width: 100%;margin-bottom: 0;padding: 0.3em;box-sizing: border-box;text-align: center;}#sk-container-id-1 label.sk-toggleable__label-arrow:before {content: \"▸\";float: left;margin-right: 0.25em;color: #696969;}#sk-container-id-1 label.sk-toggleable__label-arrow:hover:before {color: black;}#sk-container-id-1 div.sk-estimator:hover label.sk-toggleable__label-arrow:before {color: black;}#sk-container-id-1 div.sk-toggleable__content {max-height: 0;max-width: 0;overflow: hidden;text-align: left;background-color: #f0f8ff;}#sk-container-id-1 div.sk-toggleable__content pre {margin: 0.2em;color: black;border-radius: 0.25em;background-color: #f0f8ff;}#sk-container-id-1 input.sk-toggleable__control:checked~div.sk-toggleable__content {max-height: 200px;max-width: 100%;overflow: auto;}#sk-container-id-1 input.sk-toggleable__control:checked~label.sk-toggleable__label-arrow:before {content: \"▾\";}#sk-container-id-1 div.sk-estimator input.sk-toggleable__control:checked~label.sk-toggleable__label {background-color: #d4ebff;}#sk-container-id-1 div.sk-label input.sk-toggleable__control:checked~label.sk-toggleable__label {background-color: #d4ebff;}#sk-container-id-1 input.sk-hidden--visually {border: 0;clip: rect(1px 1px 1px 1px);clip: rect(1px, 1px, 1px, 1px);height: 1px;margin: -1px;overflow: hidden;padding: 0;position: absolute;width: 1px;}#sk-container-id-1 div.sk-estimator {font-family: monospace;background-color: #f0f8ff;border: 1px dotted black;border-radius: 0.25em;box-sizing: border-box;margin-bottom: 0.5em;}#sk-container-id-1 div.sk-estimator:hover {background-color: #d4ebff;}#sk-container-id-1 div.sk-parallel-item::after {content: \"\";width: 100%;border-bottom: 1px solid gray;flex-grow: 1;}#sk-container-id-1 div.sk-label:hover label.sk-toggleable__label {background-color: #d4ebff;}#sk-container-id-1 div.sk-serial::before {content: \"\";position: absolute;border-left: 1px solid gray;box-sizing: border-box;top: 0;bottom: 0;left: 50%;z-index: 0;}#sk-container-id-1 div.sk-serial {display: flex;flex-direction: column;align-items: center;background-color: white;padding-right: 0.2em;padding-left: 0.2em;position: relative;}#sk-container-id-1 div.sk-item {position: relative;z-index: 1;}#sk-container-id-1 div.sk-parallel {display: flex;align-items: stretch;justify-content: center;background-color: white;position: relative;}#sk-container-id-1 div.sk-item::before, #sk-container-id-1 div.sk-parallel-item::before {content: \"\";position: absolute;border-left: 1px solid gray;box-sizing: border-box;top: 0;bottom: 0;left: 50%;z-index: -1;}#sk-container-id-1 div.sk-parallel-item {display: flex;flex-direction: column;z-index: 1;position: relative;background-color: white;}#sk-container-id-1 div.sk-parallel-item:first-child::after {align-self: flex-end;width: 50%;}#sk-container-id-1 div.sk-parallel-item:last-child::after {align-self: flex-start;width: 50%;}#sk-container-id-1 div.sk-parallel-item:only-child::after {width: 0;}#sk-container-id-1 div.sk-dashed-wrapped {border: 1px dashed gray;margin: 0 0.4em 0.5em 0.4em;box-sizing: border-box;padding-bottom: 0.4em;background-color: white;}#sk-container-id-1 div.sk-label label {font-family: monospace;font-weight: bold;display: inline-block;line-height: 1.2em;}#sk-container-id-1 div.sk-label-container {text-align: center;}#sk-container-id-1 div.sk-container {/* jupyter's `normalize.less` sets `[hidden] { display: none; }` but bootstrap.min.css set `[hidden] { display: none !important; }` so we also need the `!important` here to be able to override the default hidden behavior on the sphinx rendered scikit-learn.org. See: https://github.com/scikit-learn/scikit-learn/issues/21755 */display: inline-block !important;position: relative;}#sk-container-id-1 div.sk-text-repr-fallback {display: none;}</style><div id=\"sk-container-id-1\" class=\"sk-top-container\"><div class=\"sk-text-repr-fallback\"><pre>LGBMClassifier(learning_rate=0.05, metric=&#x27;auc&#x27;, n_estimators=1000, n_jobs=-1,\n",
       "               objective=&#x27;binary&#x27;, random_state=42,\n",
       "               scale_pos_weight=0.08544027255706986)</pre><b>In a Jupyter environment, please rerun this cell to show the HTML representation or trust the notebook. <br />On GitHub, the HTML representation is unable to render, please try loading this page with nbviewer.org.</b></div><div class=\"sk-container\" hidden><div class=\"sk-item\"><div class=\"sk-estimator sk-toggleable\"><input class=\"sk-toggleable__control sk-hidden--visually\" id=\"sk-estimator-id-1\" type=\"checkbox\" checked><label for=\"sk-estimator-id-1\" class=\"sk-toggleable__label sk-toggleable__label-arrow\">LGBMClassifier</label><div class=\"sk-toggleable__content\"><pre>LGBMClassifier(learning_rate=0.05, metric=&#x27;auc&#x27;, n_estimators=1000, n_jobs=-1,\n",
       "               objective=&#x27;binary&#x27;, random_state=42,\n",
       "               scale_pos_weight=0.08544027255706986)</pre></div></div></div></div></div>"
      ],
      "text/plain": [
       "LGBMClassifier(learning_rate=0.05, metric='auc', n_estimators=1000, n_jobs=-1,\n",
       "               objective='binary', random_state=42,\n",
       "               scale_pos_weight=0.08544027255706986)"
      ]
     },
     "execution_count": 5,
     "metadata": {},
     "output_type": "execute_result"
    }
   ],
   "source": [
    "print(\"--- Training LightGBM Model ---\")\n",
    "\n",
    "# CORRECTED: Use the known global counts for the entire dataset for an accurate ratio\n",
    "count_benign = 555932\n",
    "count_attack = 6506674\n",
    "imbalance_ratio = count_benign / count_attack\n",
    "print(f\"Using scale_pos_weight for imbalance: {imbalance_ratio:.4f}\")\n",
    "\n",
    "lgbm = lgb.LGBMClassifier(\n",
    "    objective='binary',\n",
    "    metric='auc',\n",
    "    n_estimators=1000,\n",
    "    learning_rate=0.05,\n",
    "    num_leaves=31,\n",
    "    scale_pos_weight=imbalance_ratio,\n",
    "    n_jobs=-1,\n",
    "    random_state=42\n",
    ")\n",
    "\n",
    "lgbm.fit(\n",
    "    X_train_scaled, \n",
    "    y_train,\n",
    "    eval_set=[(X_val_scaled, y_val)],\n",
    "    eval_metric='auc',\n",
    "    callbacks=[lgb.early_stopping(10, verbose=True)]\n",
    ")"
   ]
  },
  {
   "cell_type": "markdown",
   "id": "17fe9bb0",
   "metadata": {},
   "source": [
    "### 5. Evaluate and Save the Model"
   ]
  },
  {
   "cell_type": "code",
   "execution_count": 6,
   "id": "1b92b0b3",
   "metadata": {},
   "outputs": [
    {
     "name": "stdout",
     "output_type": "stream",
     "text": [
      "\n",
      "--- LightGBM Performance on Validation Set ---\n",
      "\n",
      "Classification Report:\n",
      "              precision    recall  f1-score   support\n",
      "\n",
      "  Benign (0)       1.00      1.00      1.00     12089\n",
      "  Attack (1)       1.00      1.00      1.00    187911\n",
      "\n",
      "    accuracy                           1.00    200000\n",
      "   macro avg       1.00      1.00      1.00    200000\n",
      "weighted avg       1.00      1.00      1.00    200000\n",
      "\n",
      "\n",
      "Confusion Matrix:\n"
     ]
    },
    {
     "data": {
      "image/png": "[encoded data removed]",
      "text/plain": [
       "<Figure size 640x480 with 2 Axes>"
      ]
     },
     "metadata": {},
     "output_type": "display_data"
    },
    {
     "name": "stdout",
     "output_type": "stream",
     "text": [
      "\n",
      "Saving trained LightGBM model to app/saved_assets/lgbm_nbiot_model.joblib\n",
      "Model saved successfully.\n"
     ]
    }
   ],
   "source": [
    "print(\"\\n--- LightGBM Performance on Validation Set ---\")\n",
    "preds = lgbm.predict(X_val_scaled)\n",
    "\n",
    "print(\"\\nClassification Report:\")\n",
    "print(classification_report(y_val, preds, target_names=['Benign (0)', 'Attack (1)']))\n",
    "\n",
    "print(\"\\nConfusion Matrix:\")\n",
    "cm = confusion_matrix(y_val, preds)\n",
    "sns.heatmap(cm, annot=True, fmt='d', cmap='Blues', xticklabels=['Benign', 'Attack'], yticklabels=['Benign', 'Attack'])\n",
    "plt.xlabel('Predicted')\n",
    "plt.ylabel('Actual')\n",
    "plt.show()\n",
    "\n",
    "print(f\"\\nSaving trained LightGBM model to {MODEL_PATH}\")\n",
    "joblib.dump(lgbm, MODEL_PATH)\n",
    "print(\"Model saved successfully.\")"
   ]
  }
 ],
 "metadata": {
  "kernelspec": {
   "display_name": "Python 3 (ipykernel)",
   "language": "python",
   "name": "python3"
  },
  "language_info": {
   "codemirror_mode": {
    "name": "ipython",
    "version": 3
   },
   "file_extension": ".py",
   "mimetype": "text/x-python",
   "name": "python",
   "nbconvert_exporter": "python",
   "pygments_lexer": "ipython3",
   "version": "3.11.6"
  }
 },
 "nbformat": 4,
 "nbformat_minor": 5
}
